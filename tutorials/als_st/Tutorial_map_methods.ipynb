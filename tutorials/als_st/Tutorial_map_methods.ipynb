{
 "cells": [
  {
   "cell_type": "code",
   "execution_count": 1,
   "id": "37be9399-60ef-4f98-a073-b6182c7cced4",
   "metadata": {},
   "outputs": [],
   "source": [
    "import os\n",
    "from time import time\n",
    "\n",
    "import matplotlib.pyplot as plt\n",
    "import pandas as pd\n",
    "from jax import random\n",
    "import jax\n",
    "from PIL import Image\n",
    "import numpyro.distributions as dist\n",
    "from splotch import get_input_data, register, run_nuts, run_svi\n",
    "from splotch.models import get_default_priors\n",
    "from splotch.visualization import (\n",
    "    plot_annotations_in_common_coordinate_system,\n",
    "    plot_annotations_on_slides,\n",
    "    plot_coefficients,\n",
    "    plot_rates_in_common_coordinate_system,\n",
    "    plot_rates_on_slides,\n",
    "    plot_tissue_sections_on_slides,\n",
    "    plot_variable_on_slides,\n",
    ")\n",
    "\n",
    "os.environ[\"XLA_FLAGS\"] = \"--xla_force_host_platform_device_count=8\"\n",
    "\n",
    "Image.MAX_IMAGE_PIXELS = 1000000000\n",
    "\n",
    "%load_ext autoreload\n",
    "%autoreload 2\n",
    "%config InlineBackend.figure_format='retina'"
   ]
  },
  {
   "cell_type": "code",
   "execution_count": 2,
   "id": "5b44a697-b5c1-46e6-a701-5b0d004e7bd8",
   "metadata": {},
   "outputs": [
    {
     "name": "stderr",
     "output_type": "stream",
     "text": [
      "Discarding a tissue section with 1 spots\n",
      "Discarding a tissue section with 1 spots\n",
      "Discarding a tissue section with 2 spots\n",
      "Discarding a tissue section with 1 spots\n",
      "Discarding a tissue section with 2 spots\n",
      "Discarding a tissue section with 2 spots\n",
      "Discarding a tissue section with 1 spots\n",
      "Discarding a tissue section with 1 spots\n",
      "Discarding a tissue section with 8 spots\n",
      "Discarding 1 spots due to low sequencing depth.\n",
      "Discarding a tissue section with 1 spots\n"
     ]
    }
   ],
   "source": [
    "splotch_input_data = get_input_data(\n",
    "    \"metadata.tsv\", 3, min_detection_rate=0.1, num_of_neighbors=8\n",
    ")"
   ]
  },
  {
   "cell_type": "markdown",
   "id": "70d6ea0d-407f-408c-a7c8-81e919ae6c95",
   "metadata": {},
   "source": [
    "## NUTS"
   ]
  },
  {
   "cell_type": "markdown",
   "id": "ec0f227e-dc3c-486c-88cd-bb67320fd745",
   "metadata": {},
   "source": [
    "### map\n",
    "\n",
    "Sampling is done sequentially over chains and genes."
   ]
  },
  {
   "cell_type": "code",
   "execution_count": 3,
   "id": "965c95f5-8b80-4e4b-b85c-f16443565bde",
   "metadata": {},
   "outputs": [
    {
     "name": "stdout",
     "output_type": "stream",
     "text": [
      "58.82572793960571\n"
     ]
    }
   ],
   "source": [
    "jax.clear_caches() # for timing purposes ensure that the function is compiled again\n",
    "\n",
    "key = random.PRNGKey(0)\n",
    "key, key_ = random.split(key)\n",
    "\n",
    "t = time()\n",
    "\n",
    "splotch_result_nuts = run_nuts(\n",
    "    key_,\n",
    "    [\"Slc5a7\", \"Gfap\"],\n",
    "    splotch_input_data,\n",
    "    map_method=\"map\",\n",
    "    num_warmup=500,\n",
    "    num_samples=500,\n",
    "    num_chains=4,\n",
    ")\n",
    "\n",
    "splotch_result_nuts.posterior_samples[\"length\"].block_until_ready()\n",
    "\n",
    "print(time()-t)"
   ]
  },
  {
   "cell_type": "markdown",
   "id": "1b74dbbe-4de2-4e36-8875-1815aa2b99a8",
   "metadata": {},
   "source": [
    "### vmap\n",
    "\n",
    "Sampling is vectorized over chains and genes.\n",
    "\n",
    "Should not be used on CPU. This strategy can be beneficial on GPUs."
   ]
  },
  {
   "cell_type": "code",
   "execution_count": 4,
   "id": "9138ad54-278c-49fe-acd9-8635484eb301",
   "metadata": {},
   "outputs": [
    {
     "name": "stdout",
     "output_type": "stream",
     "text": [
      "184.9018521308899\n"
     ]
    }
   ],
   "source": [
    "jax.clear_caches() # for timing purposes ensure that the function is compiled again\n",
    "\n",
    "key = random.PRNGKey(0)\n",
    "key, key_ = random.split(key)\n",
    "\n",
    "t = time()\n",
    "\n",
    "splotch_result_nuts = run_nuts(\n",
    "    key_,\n",
    "    [\"Slc5a7\", \"Gfap\"],\n",
    "    splotch_input_data,\n",
    "    map_method=\"vmap\",\n",
    "    num_warmup=500,\n",
    "    num_samples=500,\n",
    "    num_chains=4,\n",
    ")\n",
    "\n",
    "splotch_result_nuts.posterior_samples[\"length\"].block_until_ready()\n",
    "\n",
    "print(time()-t)"
   ]
  },
  {
   "cell_type": "markdown",
   "id": "f9c58107-2ae4-4e26-a908-e0f1dd5e9621",
   "metadata": {},
   "source": [
    "### pmap\n",
    "\n",
    "Sampling is parallelized over chains and genes.\n",
    "\n",
    "Note that the `XLA_FLAGS` environment variable has to be set accordingly. For instance, if you want to run four chains for two genes simultaneously, then please set `XLA_FLAGS=8`."
   ]
  },
  {
   "cell_type": "code",
   "execution_count": 5,
   "id": "4efd3dae-ac5f-47d9-81b6-15aa88f383ad",
   "metadata": {},
   "outputs": [
    {
     "name": "stdout",
     "output_type": "stream",
     "text": [
      "28.73485493659973\n"
     ]
    }
   ],
   "source": [
    "jax.clear_caches() # for timing purposes ensure that the function is compiled again\n",
    "\n",
    "key = random.PRNGKey(0)\n",
    "key, key_ = random.split(key)\n",
    "\n",
    "t = time()\n",
    "\n",
    "splotch_result_nuts = run_nuts(\n",
    "    key_,\n",
    "    [\"Slc5a7\", \"Gfap\"],\n",
    "    splotch_input_data,\n",
    "    map_method=\"pmap\",\n",
    "    num_warmup=500,\n",
    "    num_samples=500,\n",
    "    num_chains=4,\n",
    ")\n",
    "\n",
    "splotch_result_nuts.posterior_samples[\"length\"].block_until_ready()\n",
    "\n",
    "print(time()-t)"
   ]
  },
  {
   "cell_type": "markdown",
   "id": "3d648f93-6f97-4802-acd3-124c688811e7",
   "metadata": {},
   "source": [
    "## SVI"
   ]
  },
  {
   "cell_type": "markdown",
   "id": "c706e982-73c0-4a81-8924-06339222f712",
   "metadata": {},
   "source": [
    "### map\n",
    "\n",
    "Sampling is done sequentially over chains and genes."
   ]
  },
  {
   "cell_type": "code",
   "execution_count": 6,
   "id": "3cfcfb21-b61d-4112-ade7-8a6843b6ffb6",
   "metadata": {},
   "outputs": [
    {
     "name": "stdout",
     "output_type": "stream",
     "text": [
      "44.09098696708679\n"
     ]
    }
   ],
   "source": [
    "jax.clear_caches() # for timing purposes ensure that the function is compiled again\n",
    "\n",
    "key = random.PRNGKey(0)\n",
    "key, key_ = random.split(key)\n",
    "\n",
    "t = time()\n",
    "\n",
    "key = random.PRNGKey(0)\n",
    "key, key_ = random.split(key)\n",
    "\n",
    "splotch_result_svi_batch_1 = run_svi(\n",
    "    key,\n",
    "    [\"Slc5a7\", \"Gfap\"],\n",
    "    splotch_input_data,\n",
    "    map_method=\"map\",\n",
    "    num_steps=10_000,\n",
    "    num_samples=500,\n",
    ")\n",
    "\n",
    "splotch_result_nuts.posterior_samples[\"length\"].block_until_ready()\n",
    "\n",
    "print(time()-t)"
   ]
  },
  {
   "cell_type": "markdown",
   "id": "20e6a855-b0bf-4687-a277-979f860e1e57",
   "metadata": {},
   "source": [
    "### vmap\n",
    "\n",
    "Sampling is vectorized over chains and genes.\n",
    "\n",
    "This strategy can be really beneficial on GPUs."
   ]
  },
  {
   "cell_type": "code",
   "execution_count": 7,
   "id": "3664d3fa-7c03-4ffb-b374-677bee551a4c",
   "metadata": {},
   "outputs": [
    {
     "name": "stdout",
     "output_type": "stream",
     "text": [
      "44.795427083969116\n"
     ]
    }
   ],
   "source": [
    "jax.clear_caches() # for timing purposes ensure that the function is compiled again\n",
    "\n",
    "key = random.PRNGKey(0)\n",
    "key, key_ = random.split(key)\n",
    "\n",
    "t = time()\n",
    "\n",
    "key = random.PRNGKey(0)\n",
    "key, key_ = random.split(key)\n",
    "\n",
    "splotch_result_svi_batch_1 = run_svi(\n",
    "    key,\n",
    "    [\"Slc5a7\", \"Gfap\"],\n",
    "    splotch_input_data,\n",
    "    map_method=\"vmap\",\n",
    "    num_steps=10_000,\n",
    "    num_samples=500,\n",
    ")\n",
    "\n",
    "splotch_result_nuts.posterior_samples[\"length\"].block_until_ready()\n",
    "\n",
    "print(time()-t)"
   ]
  },
  {
   "cell_type": "markdown",
   "id": "f3e551ac-797b-4be8-b127-e080832a16e9",
   "metadata": {},
   "source": [
    "### pmap\n",
    "\n",
    "Sampling is parallelized over chains and genes.\n",
    "\n",
    "Note that the `XLA_FLAGS` environment variable has to be set accordingly. For instance, if you want to run four chains for two genes simultaneously, then please set `XLA_FLAGS=8`."
   ]
  },
  {
   "cell_type": "code",
   "execution_count": 8,
   "id": "7ad20d85-6317-442e-a51c-461aaef38151",
   "metadata": {},
   "outputs": [
    {
     "name": "stdout",
     "output_type": "stream",
     "text": [
      "29.260001182556152\n"
     ]
    }
   ],
   "source": [
    "jax.clear_caches() # for timing purposes ensure that the function is compiled again\n",
    "\n",
    "key = random.PRNGKey(0)\n",
    "key, key_ = random.split(key)\n",
    "\n",
    "t = time()\n",
    "\n",
    "key = random.PRNGKey(0)\n",
    "key, key_ = random.split(key)\n",
    "\n",
    "splotch_result_svi_batch_1 = run_svi(\n",
    "    key,\n",
    "    [\"Slc5a7\", \"Gfap\"],\n",
    "    splotch_input_data,\n",
    "    map_method=\"pmap\",\n",
    "    num_steps=10_000,\n",
    "    num_samples=500,\n",
    ")\n",
    "\n",
    "splotch_result_nuts.posterior_samples[\"length\"].block_until_ready()\n",
    "\n",
    "print(time()-t)"
   ]
  }
 ],
 "metadata": {
  "kernelspec": {
   "display_name": "Python 3 (ipykernel)",
   "language": "python",
   "name": "python3"
  },
  "language_info": {
   "codemirror_mode": {
    "name": "ipython",
    "version": 3
   },
   "file_extension": ".py",
   "mimetype": "text/x-python",
   "name": "python",
   "nbconvert_exporter": "python",
   "pygments_lexer": "ipython3",
   "version": "3.10.11"
  }
 },
 "nbformat": 4,
 "nbformat_minor": 5
}
